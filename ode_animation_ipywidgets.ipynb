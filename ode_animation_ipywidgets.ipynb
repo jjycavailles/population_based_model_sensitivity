{
 "cells": [
  {
   "cell_type": "markdown",
   "metadata": {},
   "source": [
    "# scroll down and click on show widget\n",
    "\n",
    "# if the simulation doesn't work\n",
    "####    1. refresh\n",
    "####    2. click again on show widget"
   ]
  },
  {
   "cell_type": "raw",
   "metadata": {},
   "source": [
    "from IPython.core.display import display, HTML\n",
    "display(HTML(\"<style>.container { width:100% !important; }</style>\"))"
   ]
  },
  {
   "cell_type": "code",
   "execution_count": 1,
   "metadata": {},
   "outputs": [],
   "source": [
    "import numpy as np\n",
    "import matplotlib.pyplot as plt"
   ]
  },
  {
   "cell_type": "code",
   "execution_count": 2,
   "metadata": {},
   "outputs": [],
   "source": [
    "import ipywidgets as widgets\n",
    "from ipywidgets import Layout\n",
    "from io import BytesIO\n",
    "import colorsys\n",
    "import pickle # package use to save data\n",
    "from IPython.display import display, Image\n",
    "import nbinteract as nbi"
   ]
  },
  {
   "cell_type": "code",
   "execution_count": 3,
   "metadata": {},
   "outputs": [],
   "source": [
    "from ipyevents import Event "
   ]
  },
  {
   "cell_type": "raw",
   "metadata": {},
   "source": [
    "%pip install matplotlib -qqq\n",
    "import matplotlib.pyplot as plt"
   ]
  },
  {
   "cell_type": "code",
   "execution_count": 4,
   "metadata": {},
   "outputs": [],
   "source": [
    "def f_a(S, Xb, l, h):\n",
    "    if(abs(Xb-l) <= 10**-10):\n",
    "        return 1./(S[0] + S[2])\n",
    "    elif(abs(Xb-h) <= 10**-10):\n",
    "        return 1./(S[0])\n",
    "    else:\n",
    "        print(\"Error!\")\n",
    "        print(\"Xn=\", Xb, \"l=\", l, \"h=\", h)\n",
    "    return"
   ]
  },
  {
   "cell_type": "code",
   "execution_count": 5,
   "metadata": {},
   "outputs": [],
   "source": [
    "def f_b(S, Xb, l, h):\n",
    "    if(abs(Xb-l) <= 10**-10):\n",
    "        return Xb/(S[1])\n",
    "    elif(abs(Xb-h) <= 10**-10):\n",
    "        return Xb/(S[1] + S[2])\n",
    "    else:\n",
    "        print(\"Error!\")"
   ]
  },
  {
   "cell_type": "code",
   "execution_count": 6,
   "metadata": {},
   "outputs": [],
   "source": [
    "def f_sab(S, Xb, l, h):\n",
    "    if(abs(Xb-l) <= 10**-10):\n",
    "        return 1./(S[0] + S[2])\n",
    "    elif(abs(Xb-h) <= 10**-10):\n",
    "        return h/(S[1] + S[2])\n",
    "    else:\n",
    "        print(\"Error!\")"
   ]
  },
  {
   "cell_type": "code",
   "execution_count": 7,
   "metadata": {},
   "outputs": [],
   "source": [
    "def F(S, Xb, l, h, alpha, r, m, d, k):\n",
    "    A, B, SAB = S\n",
    "    S2 = np.zeros((3))\n",
    "    N = np.sum(S)\n",
    "    S2[0] = r*f_a(S, Xb, l, h)*(1-d*N/k)*A-m*A\n",
    "    S2[1] = r*f_b(S, Xb, l, h)*(1-d*N/k)*B-m*B\n",
    "    S2[2] = r*f_sab(S, Xb, l, h)*(1-d*N/k)*SAB-m*SAB\n",
    "    return S2"
   ]
  },
  {
   "cell_type": "code",
   "execution_count": 8,
   "metadata": {},
   "outputs": [],
   "source": [
    "def iterations(T, S_init, XXb, l, h, alpha, r, m, d, k):\n",
    "    dt = T[1] - T[0]\n",
    "    SS = np.zeros((len(T), 3))\n",
    "    SS[0] = S_init\n",
    "    for t in range(len(T)-1):\n",
    "        SS[t+1] = SS[t] + dt*F(SS[t], XXb[t], l, h, alpha, r, m, d, k)\n",
    "    return SS"
   ]
  },
  {
   "cell_type": "markdown",
   "metadata": {},
   "source": [
    "### Parameters"
   ]
  },
  {
   "cell_type": "raw",
   "metadata": {},
   "source": [
    "alpha = 0.5\n",
    "l = 0.5\n",
    "h = 6"
   ]
  },
  {
   "cell_type": "raw",
   "metadata": {},
   "source": [
    "period_variable_source = 5"
   ]
  },
  {
   "cell_type": "raw",
   "metadata": {},
   "source": [
    "nbreStep = 100\n",
    "t_final = 50\n",
    "T = np.linspace(0, t_final, nbreStep)"
   ]
  },
  {
   "cell_type": "raw",
   "metadata": {},
   "source": [
    "Xb = l + (h-l)*np.random.binomial(1, alpha)"
   ]
  },
  {
   "cell_type": "raw",
   "metadata": {},
   "source": [
    "plt.plot(Random_series)"
   ]
  },
  {
   "cell_type": "raw",
   "metadata": {},
   "source": [
    "r = 1.2 # Reproduction rate\n",
    "m = 1. # Mortality rate (constant between 0.0 and 1.0)\n",
    "d = 0. # Effect of density regulation (constant, Mathus: d=0.0, Verhust: d>0.0, typical Verhust: d=1.0)\n",
    "K = 1000 # Carrying capacity of the habitat"
   ]
  },
  {
   "cell_type": "raw",
   "metadata": {},
   "source": [
    "S_init = (np.zeros((3))+1./3 ) # * K"
   ]
  },
  {
   "cell_type": "code",
   "execution_count": 9,
   "metadata": {},
   "outputs": [],
   "source": [
    "Strat = [\"ia (always a)\", \"ib (always b)\", \"sab (sensitive)\"]\n",
    "Color = [\"red\", \"green\", \"blue\"]"
   ]
  },
  {
   "cell_type": "raw",
   "metadata": {},
   "source": [
    "T = np.linspace(0, t_final, nbreStep)\n",
    "Random_series = np.zeros(nbreStep)\n",
    "Random_series_simple = np.random.binomial(1, alpha, size = nbreStep//period_variable_source) # generate again only if alpha changes\n",
    "for i in range(period_variable_source):\n",
    "    Random_series[i::period_variable_source] = Random_series_simple\n",
    "XXb = l + (h-l)*Random_series\n",
    "\n",
    "SS = iterations(T, [ia0, ib0, sab0])\n",
    "\n",
    "Theory = np.array([1./(1+h), l/(1+l), (h-l)/((1+l)*(1+h))])"
   ]
  },
  {
   "cell_type": "markdown",
   "metadata": {},
   "source": [
    "# Dashboard"
   ]
  },
  {
   "cell_type": "code",
   "execution_count": 10,
   "metadata": {},
   "outputs": [],
   "source": [
    "class Select_box(widgets.VBox):\n",
    "    def __init__(self, dashboard):\n",
    "        \n",
    "        import numpy as np\n",
    "        \n",
    "        self.dashboard = dashboard\n",
    "\n",
    "\n",
    "        #initial point\n",
    "\n",
    "        self.selection_ia0 = widgets.FloatLogSlider(min = np.log10(0.1), max = np.log10(1000), description = \"x_{ia}^0\", value =  1./3)\n",
    "        self.selection_ia0.observe(dashboard.on_ia0_selected, names = \"value\")\n",
    "        \n",
    "        self.selection_ib0 = widgets.FloatLogSlider(min = np.log10(0.1), max = np.log10(1000), description = \"x_{ib}^0\", value =  1./3)\n",
    "        self.selection_ib0.observe(dashboard.on_ib0_selected, names = \"value\")\n",
    "        \n",
    "        self.selection_sab0 = widgets.FloatLogSlider(min = np.log10(0.1), max = np.log10(1000), description = \"x_{sab}^0\", value =  1./3)\n",
    "        self.selection_sab0.observe(dashboard.on_sab0_selected, names = \"value\")\n",
    "        \n",
    "        self.selection_l = widgets.FloatLogSlider(min = np.log10(0.1), max = np.log10(100), description = \"l \", value =  0.6)\n",
    "        self.selection_l.observe(dashboard.on_l_selected, names = \"value\")\n",
    "\n",
    "        self.selection_h = widgets.FloatLogSlider(min = np.log10(0.1), max = np.log10(100), description = \"h \", value =  0.6)\n",
    "        self.selection_h.observe(dashboard.on_h_selected, names = \"value\")\n",
    "        \n",
    "        self.selection_alpha = widgets.FloatSlider(min = 0, max = 1, description = \"alpha\", value = 0.6)\n",
    "        self.selection_alpha.observe(dashboard.on_alpha_selected, names = \"value\")\n",
    "        \n",
    "        \n",
    "        self.selection_r = widgets.FloatSlider(min = 0, max = 4, description = \"r\", value = 3)\n",
    "        self.selection_r.observe(dashboard.on_r_selected, names = \"value\")\n",
    "        \n",
    "        self.selection_m = widgets.FloatSlider(min = 0, max = 4, description = \"m\", value = 2)\n",
    "        self.selection_m.observe(dashboard.on_m_selected, names = \"value\")\n",
    "        \n",
    "        self.selection_d = widgets.FloatSlider(min = 0, max = 1, description = \"d\", value = 0.4)\n",
    "        self.selection_d.observe(dashboard.on_d_selected, names = \"value\")\n",
    "        \n",
    "        self.selection_k = widgets.FloatLogSlider(min = np.log10(1), max = np.log10(100000), description = \"K\", value =  1000)\n",
    "        self.selection_k.observe(dashboard.on_k_selected, names = \"value\")\n",
    "   \n",
    "\n",
    "        self.selection_tFinal = widgets.FloatLogSlider(min = np.log10(10), max = np.log10(10000), description = \"final time\", value =  1000)\n",
    "        self.selection_tFinal.observe(dashboard.on_tFinal_selected, names = \"value\")\n",
    "        \n",
    "        self.selection_nbreStep = widgets.IntSlider(min = 100, max = 100000, description = \"number of step\", value =  10000)\n",
    "        self.selection_nbreStep.observe(dashboard.on_nbreStep_selected, names = \"value\")\n",
    "        \n",
    "        self.selection_period = widgets.IntSlider(min = 1, max = 100, description = \"period\", value =  5)\n",
    "        self.selection_period.observe(dashboard.on_period_selected, names = \"value\")\n",
    "            \n",
    "        \n",
    "        \n",
    "        children = [\n",
    "        self.selection_ia0,\n",
    "        self.selection_ib0,\n",
    "        self.selection_sab0,\n",
    "        self.selection_l,\n",
    "        self.selection_h,\n",
    "        self.selection_alpha,\n",
    "        self.selection_r,\n",
    "        self.selection_m,\n",
    "        self.selection_d,\n",
    "        self.selection_k,\n",
    "        self.selection_tFinal,\n",
    "        self.selection_nbreStep,\n",
    "        self.selection_period,\n",
    "        ]\n",
    "        super().__init__(children, layout=Layout(width=\"100%\"))   "
   ]
  },
  {
   "cell_type": "code",
   "execution_count": 11,
   "metadata": {},
   "outputs": [],
   "source": [
    "class Image_box(widgets.Box):\n",
    "    def __init__(self, dashboard):\n",
    "        #%pip install matplotlib\n",
    "        #import matplotlib.pyplot as plt\n",
    "        self.image = widgets.Image()\n",
    "        self.dashboard = dashboard\n",
    "        \n",
    "        self.ia0 = self.dashboard.ia0\n",
    "        self.ib0 = self.dashboard.ib0\n",
    "        self.sab0 = self.dashboard.sab0\n",
    "        \n",
    "        self.l = self.dashboard.l\n",
    "        self.h = self.dashboard.h\n",
    "        self.alpha = self.dashboard.alpha\n",
    "  \n",
    "        self.r = self.dashboard.r\n",
    "        self.m = self.dashboard.m\n",
    "        self.d = self.dashboard.d\n",
    "        self.k = self.dashboard.k\n",
    "        \n",
    "        self.tFinal = self.dashboard.tFinal\n",
    "        self.nbreStep = self.dashboard.nbreStep\n",
    "        self.period = self.dashboard.period\n",
    "        \n",
    "        #self.t_final = self.dashboard.tFinal\n",
    "        #self.period_variable_source = self.dashboard.period\n",
    "        \n",
    "        \n",
    "        self.print_image()\n",
    "        \n",
    "        image_container = widgets.Box([self.image], layout=Layout(width=\"100%\"))\n",
    "        \n",
    "        children = [\n",
    "   #     image_container,\n",
    "        self.image,   \n",
    "        ]\n",
    "        super().__init__(children, layout=Layout(width=\"100%\"))\n",
    "        \n",
    "    def print_image(self):\n",
    "        \"\"\"\n",
    "        try:\n",
    "            import matplotlib.pyplot as plt\n",
    "        except:\n",
    "            %pip install matplotlib -qqq\n",
    "            import matplotlib.pyplot as plt\n",
    "        \"\"\"\n",
    "        \n",
    "        self.t_final = self.tFinal\n",
    "        self.period_variable_source = self.period\n",
    "        \n",
    "        \n",
    "        T = np.linspace(0, self.t_final, self.nbreStep)\n",
    "        Random_series_simple = np.random.binomial(1, self.alpha, size = self.nbreStep//self.period_variable_source) # generate again only if alpha changes\n",
    "        Random_series = np.zeros(self.nbreStep)\n",
    "        #for i in range(self.period_variable_source):\n",
    "        #    Random_series[i::self.period_variable_source] = Random_series_simple\n",
    "        for i in range(len(Random_series_simple)):\n",
    "            Random_series[i*self.period_variable_source:i*self.period_variable_source+self.period_variable_source:] = Random_series_simple[i]\n",
    "\n",
    "            \n",
    "        XXb = self.l + (self.h-self.l)*Random_series\n",
    "\n",
    "        SS = iterations(T, [self.ia0, self.ib0, self.sab0], XXb, self.l, self.h, self.alpha, self.r, self.m, self.d, self.k)\n",
    "\n",
    "        Theory = np.array([1./(1+self.h), self.l/(1+self.l), (self.h-self.l)/((1+self.l)*(1+self.h))])\n",
    "\n",
    "        plt.subplots(2,1, figsize = (15, 15))\n",
    "\n",
    "        plt.subplot(2,1, 1)\n",
    "        plt.title(\"Population model ODEs based on a simple Verhulst model\", fontsize = 30)\n",
    "        mmax = 1.1*np.max(np.max(SS))\n",
    "        plt.fill_between(T, -0.1 , mmax, where=XXb==self.h, alpha = 0.2, color = \"purple\", label = \"Xb = high\")\n",
    "        plt.fill_between(T, -0.1 , mmax, where=XXb==self.l, alpha = 0.2, color = \"orange\", label = \"Xb = low\")\n",
    "\n",
    "        for i, strat in enumerate(Strat):\n",
    "            plt.plot(T, SS[:,i], label = strat, color = Color[i])\n",
    "        #    plt.plot([T[0], T[-1]], [Theory[i], Theory[i]], color = Color[i])\n",
    "        #plt.ylim(0,1)\n",
    "        plt.legend(fontsize = 20)\n",
    "        plt.xlabel(\"time\", fontsize = 30)\n",
    "        plt.ylabel(\"Populations\", fontsize = 30)\n",
    "\n",
    "        plt.subplot(2,1, 2)\n",
    "        plt.title(\"Population model ODEs based on a simple Verhulst model\", fontsize = 30)\n",
    "        for i, strat in enumerate(Strat):\n",
    "            plt.plot(T, SS[:,i]/np.sum(SS, axis = 1), label = strat, color = Color[i])\n",
    "            plt.plot([T[0], T[-1]], [Theory[i], Theory[i]], \"--\", color = Color[i])\n",
    "        plt.fill_between(T, -0.1 , 1.1, where=XXb==self.h, alpha = 0.2, color = \"purple\", label = \"Xb = high\")\n",
    "        plt.fill_between(T, -0.1 , 1.1, where=XXb==self.l, alpha = 0.2, color = \"orange\", label = \"Xb = low\")\n",
    "        plt.ylim(-0.1,1.1)\n",
    "        plt.legend(fontsize = 20)\n",
    "        plt.xlabel(\"time\", fontsize = 30)\n",
    "        plt.ylabel(\"Frequency\", fontsize = 30)\n",
    "        plt.yticks([0, 1, 1./(1+self.h), self.l/(1+self.l), (self.h-self.l)/((1+self.l)*(1+self.h))], [\"0\", \"1\", \"1./(1+h)\", \"l/(1+l)\", \"(h-l)/((1+l)*(1+h))\"])\n",
    "\n",
    "\n",
    "        #plt.show()\n",
    "\n",
    "\n",
    "        image_file = BytesIO()\n",
    "        #fig.savefig(fname = image_file)\n",
    "        plt.savefig(fname = image_file)\n",
    "        image_file.seek(0)\n",
    "        image_data = image_file.read()\n",
    "        self.image.value = image_data\n",
    "#            self.image.width = 1500\n",
    "#           self.image.height = 2000\n",
    "        plt.close()\n",
    "\n",
    "#          file = open(nom, \"rb\")\n",
    "#         image = file.read()\n",
    "        #plt.imshow(image)\n",
    "#        self.image.value = image\n",
    " #       self.image.format = 'png'\n",
    "        \n",
    "        \n",
    "        return\n",
    "        \n",
    "\n",
    "    def change_ia0(self, change):\n",
    "        self.ia0 = change\n",
    "        self.print_image()\n",
    "        return\n",
    "    \n",
    "    def change_ib0(self, change):\n",
    "        self.ib0 = change\n",
    "        self.print_image()\n",
    "        return\n",
    "    \n",
    "    def change_sab0(self, change):\n",
    "        self.obl0 = change\n",
    "        self.print_image()\n",
    "        return\n",
    "    \n",
    "    def change_l(self, change):\n",
    "        self.l = change\n",
    "        self.print_image()\n",
    "        return\n",
    "    \n",
    "    \n",
    "    def change_h(self, change):\n",
    "        self.h = change\n",
    "        self.print_image()\n",
    "        return\n",
    "    \n",
    "    def change_alpha(self, change):\n",
    "        self.alpha = change\n",
    "        self.print_image()\n",
    "        return\n",
    "    \n",
    "    def change_r(self, change):\n",
    "        self.r = change\n",
    "        self.print_image()\n",
    "        return\n",
    "    \n",
    "    \n",
    "    def change_m(self, change):\n",
    "        self.m = change\n",
    "        self.print_image()\n",
    "        return\n",
    "    \n",
    "    def change_d(self, change):\n",
    "        self.d = change\n",
    "        self.print_image()\n",
    "        return\n",
    "    \n",
    "    def change_k(self, change):\n",
    "        self.k = change\n",
    "        self.print_image()\n",
    "        return\n",
    "    \n",
    "    def change_tFinal(self, change):\n",
    "        self.tFinal = change\n",
    "        self.print_image()\n",
    "        return\n",
    "    \n",
    "    def change_nbreStep(self, change):\n",
    "        self.nbreStep = change\n",
    "        self.print_image()\n",
    "        return\n",
    "    \n",
    "    def change_period(self, change):\n",
    "        self.period = change\n",
    "        self.print_image()\n",
    "        return"
   ]
  },
  {
   "cell_type": "code",
   "execution_count": 12,
   "metadata": {},
   "outputs": [],
   "source": [
    "class Dashboard(widgets.VBox):\n",
    "    def __init__(self):\n",
    "\n",
    "        self.ia0 = 1./3\n",
    "        self.ib0 = 1./3\n",
    "        self.sab0 = 1./3\n",
    "        \n",
    "        self.l = 0.05\n",
    "        self.h = 0.02\n",
    "        self.alpha = 0.6\n",
    "          \n",
    "        self.r = 0.001\n",
    "        self.m = 0.008\n",
    "        self.d = 0.0036\n",
    "        self.k = 0.00036\n",
    "        \n",
    "        self.tFinal = 1000\n",
    "        self.nbreStep = 10000\n",
    "        self.period = 5\n",
    "    \n",
    "        self.select_box = Select_box(self)\n",
    "    #    self.text_box = Text_box(self)\n",
    "        self.image_box = Image_box(self)\n",
    "        \n",
    "        \n",
    "        C1 = widgets.Box([self.image_box], layout=Layout(width=\"65%\"))\n",
    "        C2 = widgets.Box([self.select_box], layout=Layout(width=\"32%\"))\n",
    "        \n",
    "        #rowA = widgets.Box([self.image_box, self.select_box], layout=Layout(width=\"100%\"))\n",
    "        rowA = widgets.HBox([C1, C2], layout=Layout(width=\"100%\"))\n",
    "        super().__init__([rowA], layout=Layout(width=\"100%\"))\n",
    "    \n",
    "\n",
    "    \n",
    "    \n",
    "    def on_ia0_selected(self, change):\n",
    "        self.ia0 = change[\"new\"]\n",
    "        self.image_box.change_ia0(change[\"new\"])\n",
    "\n",
    "    def on_ib0_selected(self, change):\n",
    "        self.ib0 = change[\"new\"]\n",
    "        self.image_box.change_ib0(change[\"new\"])\n",
    "\n",
    "    def on_sab0_selected(self, change):\n",
    "        self.sab0 = change[\"new\"]\n",
    "        self.image_box.change_sab0(change[\"new\"])\n",
    "        \n",
    "\n",
    "    def on_l_selected(self, change):\n",
    "        self.l = change[\"new\"]\n",
    "        self.image_box.change_l(change[\"new\"])\n",
    "\n",
    "    def on_h_selected(self, change):\n",
    "        self.h = change[\"new\"]\n",
    "        self.image_box.change_h(change[\"new\"])\n",
    "        \n",
    "    def on_alpha_selected(self, change):\n",
    "        self.alpha = change[\"new\"]\n",
    "        self.image_box.change_alpha(change[\"new\"])\n",
    "\n",
    "        \n",
    "    def on_r_selected(self, change):\n",
    "        self.r = change[\"new\"]\n",
    "        self.image_box.change_r(change[\"new\"])\n",
    "\n",
    "    def on_m_selected(self, change):\n",
    "        self.m = change[\"new\"]\n",
    "        self.image_box.change_m(change[\"new\"])\n",
    "\n",
    "    def on_d_selected(self, change):\n",
    "        self.d = change[\"new\"]\n",
    "        self.image_box.change_d(change[\"new\"])\n",
    "\n",
    "    def on_k_selected(self, change):\n",
    "        self.k = change[\"new\"]\n",
    "        self.image_box.change_k(change[\"new\"])\n",
    "        \n",
    "    def on_tFinal_selected(self, change):\n",
    "        self.tFinal = change[\"new\"]\n",
    "        self.image_box.change_tFinal(change[\"new\"])\n",
    "        \n",
    "    def on_nbreStep_selected(self, change):\n",
    "        self.nbreStep = change[\"new\"]\n",
    "        self.image_box.change_nbreStep(change[\"new\"])\n",
    "        \n",
    "    def on_period_selected(self, change):\n",
    "        self.period = change[\"new\"]\n",
    "        self.image_box.change_period(change[\"new\"])"
   ]
  },
  {
   "cell_type": "code",
   "execution_count": 13,
   "metadata": {
    "scrolled": false
   },
   "outputs": [
    {
     "data": {
      "application/vnd.jupyter.widget-view+json": {
       "model_id": "6de0c7db4b8440999a432fd3e027f47f",
       "version_major": 2,
       "version_minor": 0
      },
      "text/plain": [
       "Dashboard(children=(HBox(children=(Box(children=(Image_box(children=(Image(value=b'\\x89PNG\\r\\n\\x1a\\n\\x00\\x00\\x…"
      ]
     },
     "metadata": {},
     "output_type": "display_data"
    }
   ],
   "source": [
    "D=Dashboard()\n",
    "D"
   ]
  },
  {
   "cell_type": "code",
   "execution_count": null,
   "metadata": {},
   "outputs": [],
   "source": []
  },
  {
   "cell_type": "code",
   "execution_count": null,
   "metadata": {},
   "outputs": [],
   "source": []
  }
 ],
 "metadata": {
  "kernelspec": {
   "display_name": "Python 3",
   "language": "python",
   "name": "python3"
  },
  "language_info": {
   "codemirror_mode": {
    "name": "ipython",
    "version": 3
   },
   "file_extension": ".py",
   "mimetype": "text/x-python",
   "name": "python",
   "nbconvert_exporter": "python",
   "pygments_lexer": "ipython3",
   "version": "3.8.5"
  }
 },
 "nbformat": 4,
 "nbformat_minor": 2
}
