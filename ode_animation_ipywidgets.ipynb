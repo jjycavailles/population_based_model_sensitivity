{
 "cells": [
  {
   "cell_type": "markdown",
   "metadata": {},
   "source": [
    "# Model\n",
    "$\\frac{d N_{ia}}{dt}   = R \\cdot f_{ia}(N_{ia}(t), N_{ib}(t), N_{sab}(t), X_b(t)) \\cdot (1 - d\\cdot N(t)/K) \\cdot N_{ia}(t) - m \\cdot N_{ia}(t)$\n",
    "\n",
    "$\\frac{d N_{ib}}{dt}   = R \\cdot f_{ib}(N_{ia}(t), N_{ib}(t), N_{sab}(t), X_b(t)) \\cdot (1 - d\\cdot N(t)/K) \\cdot \n",
    "N_{ib}(t) - m \\cdot N_{ib}(t)$\n",
    "\n",
    "$\\frac{d N_{sab}}{dt}   = R \\cdot f_{sab}(N_{ia}(t), N_{ib}(t), N_{sab}(t), X_b(t)) \\cdot (1 - d\\cdot N(t)/K) \\cdot N_{sab}(t) - m \\cdot N_{sab}(t)$\n"
   ]
  },
  {
   "cell_type": "markdown",
   "metadata": {},
   "source": [
    "I chose $f_{ia}, f_{ib}$ and $f_{sab}$ as the quantity of food a player gets by choosing the corresponding strategy:\n",
    "\n",
    "$f_{ia}(N_{ia}(t), N_{ib}(t), N_{sab}(t), X_b(t)) = \n",
    "\\left\\{\n",
    "\\begin{array}{lll}\n",
    "\\frac{1}{N_{ia}(t) + N_{sab}(t)} & if & X_b = l \\\\\n",
    "\\frac{1}{N_{ia}(t)} & if & X_b = h \\\\\n",
    "\\end{array}\n",
    "\\right.$ \n",
    "\n",
    "$f_{ib}(N_{ia}(t), N_{ib}(t), N_{sab}(t), X_b(t)) = \n",
    "\\left\\{\n",
    "\\begin{array}{lll}\n",
    "\\frac{l}{N_{ib}(t)} & if & X_b = l \\\\\n",
    "\\frac{h}{N_{ib}(t) +  N_{sab}(t)} & if & X_b = h \\\\\n",
    "\\end{array}\n",
    "\\right.$ \n",
    "\n",
    "$f_{sab}(N_{ia}(t), N_{ib}(t), N_{sab}(t), X_b(t)) = \n",
    "\\left\\{\n",
    "\\begin{array}{lll}\n",
    "\\frac{1}{N_{ia}(t) + N_{sab}(t)} & if & X_b = l \\\\\n",
    "\\frac{h}{N_{ib}(t) + N_{sab}(t)} & if & X_b = h \\\\\n",
    "\\end{array}\n",
    "\\right.$ "
   ]
  },
  {
   "cell_type": "markdown",
   "metadata": {},
   "source": [
    "On the following simulation, we can see that each frequency always converges to the theoretical prediction."
   ]
  },
  {
   "cell_type": "markdown",
   "metadata": {},
   "source": [
    "# Simulation"
   ]
  },
  {
   "cell_type": "code",
   "execution_count": 5,
   "metadata": {
    "scrolled": false
   },
   "outputs": [
    {
     "data": {
      "application/vnd.jupyter.widget-view+json": {
       "model_id": "755cd5d19684486b9598584e94926dad",
       "version_major": 2,
       "version_minor": 0
      },
      "text/plain": [
       "Dashboard(children=(HBox(children=(Box(children=(Image_box(children=(Image(value=b'\\x89PNG\\r\\n\\x1a\\n\\x00\\x00\\x…"
      ]
     },
     "metadata": {},
     "output_type": "display_data"
    }
   ],
   "source": [
    "from dashboard import *\n",
    "Dashboard()"
   ]
  },
  {
   "cell_type": "markdown",
   "metadata": {},
   "source": [
    "### If the simulation doesn't work (it may take a long time)\n",
    "1. refresh\n",
    "2. click again on show widget"
   ]
  },
  {
   "cell_type": "code",
   "execution_count": null,
   "metadata": {},
   "outputs": [],
   "source": []
  }
 ],
 "metadata": {
  "kernelspec": {
   "display_name": "Python 3",
   "language": "python",
   "name": "python3"
  },
  "language_info": {
   "codemirror_mode": {
    "name": "ipython",
    "version": 3
   },
   "file_extension": ".py",
   "mimetype": "text/x-python",
   "name": "python",
   "nbconvert_exporter": "python",
   "pygments_lexer": "ipython3",
   "version": "3.8.5"
  }
 },
 "nbformat": 4,
 "nbformat_minor": 2
}
